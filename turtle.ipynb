{
 "cells": [
  {
   "cell_type": "code",
   "execution_count": 1,
   "metadata": {},
   "outputs": [],
   "source": [
    "def leap_year(year):\n",
    "    if year %4 == 0:\n",
    "        if year %100 == 0 and year %400 != 0:\n",
    "            return False\n",
    "        else:\n",
    "          return True\n",
    "    else:\n",
    "        return False"
   ]
  },
  {
   "cell_type": "code",
   "execution_count": 9,
   "metadata": {},
   "outputs": [],
   "source": [
    "def find_fib(n):\n",
    "    if n <= 2:\n",
    "        return 1\n",
    "    fib_x, fib_next = 1, 1\n",
    "    i = 3\n",
    "    while i <= n:\n",
    "        i += 1\n",
    "        fib_x, fib_next = fib_next, fib_x + fib_next\n",
    "        return fib_next\n",
    "    for x in range(1, 11):\n",
    "        print(find_fib(x))"
   ]
  },
  {
   "cell_type": "code",
   "execution_count": 10,
   "metadata": {},
   "outputs": [
    {
     "name": "stdout",
     "output_type": "stream",
     "text": [
      "19\n"
     ]
    }
   ],
   "source": [
    "a = 9\n",
    "b = 10\n",
    "\n",
    "print(a + b)"
   ]
  },
  {
   "cell_type": "code",
   "execution_count": 12,
   "metadata": {},
   "outputs": [
    {
     "name": "stdout",
     "output_type": "stream",
     "text": [
      "0\n",
      "1\n",
      "1\n",
      "2\n",
      "3\n",
      "5\n",
      "8\n",
      "13\n",
      "21\n",
      "34\n",
      "55\n"
     ]
    }
   ],
   "source": [
    "def fibonacci_recursion(n):\n",
    "    if n < 0:\n",
    "        print('incorrect output')\n",
    "    elif n == 0:\n",
    "        return 0\n",
    "    elif n == 1 or n == 2:\n",
    "        return 1\n",
    "    else:\n",
    "        return fibonacci_recursion (n-1) + fibonacci_recursion (n-2)\n",
    "        \n",
    "for i in range(0, 11):\n",
    "        print(fibonacci_recursion(i))"
   ]
  },
  {
   "cell_type": "code",
   "execution_count": 17,
   "metadata": {},
   "outputs": [
    {
     "name": "stdout",
     "output_type": "stream",
     "text": [
      "500 is incorect! please try to guess a larger number.\n",
      "700 is incorrect! please try to guess a smaller number.\n",
      "800 is incorrect! please try to guess a smaller number.\n",
      "900 is incorrect! please try to guess a smaller number.\n",
      "600 is incorrect! please try to guess a smaller number.\n",
      "600 is incorrect! please try to guess a smaller number.\n",
      "550 is incorect! please try to guess a larger number.\n",
      "550 is incorect! please try to guess a larger number.\n",
      "580 is incorect! please try to guess a larger number.\n",
      "590 is incorect! please try to guess a larger number.\n",
      "595 is incorect! please try to guess a larger number.\n",
      "Yes, your guess is correct!\n",
      "\n",
      "\n",
      "You tried 12 times to find the correct number.\n"
     ]
    }
   ],
   "source": [
    "import random\n",
    "number = random.randint(1, 1000)\n",
    "attempts = 0\n",
    "while True:\n",
    "    input_number = input(\"Guess the number(between 1 and 1000): \")\n",
    "    input_number = int(input_number)\n",
    "    attempts += 1\n",
    "    if input_number == number:\n",
    "        print(\"Yes, your guess is correct!\")\n",
    "        break\n",
    "    if input_number > number:\n",
    "        print(f\"{input_number} is incorrect! please try to guess a smaller number.\")\n",
    "        continue\n",
    "    else:\n",
    "        print(f\"{input_number} is incorect! please try to guess a larger number.\")\n",
    "        continue\n",
    "\n",
    "print(f\"\\n\\nYou tried {attempts} times to find the correct number.\")\n"
   ]
  },
  {
   "cell_type": "code",
   "execution_count": 8,
   "metadata": {},
   "outputs": [
    {
     "name": "stdout",
     "output_type": "stream",
     "text": [
      "Guess the number(between 1 and 1000): \n",
      "My guess is 500\n",
      "Incorrect! Please try to guess a larger number.\n",
      "Guess the number(between 1 and 1000): \n",
      "My guess is 750\n",
      "Incorrect! Please try to guess a larger number.\n",
      "Guess the number(between 1 and 1000): \n",
      "My guess is 875\n",
      "Incorrect! Please try to guess a smaller number.\n",
      "Guess the number(between 1 and 1000): \n",
      "My guess is 812\n",
      "Incorrect! Please try to guess a smaller number.\n",
      "Guess the number(between 1 and 1000): \n",
      "My guess is 781\n",
      "Incorrect! Please try to guess a larger number.\n",
      "Guess the number(between 1 and 1000): \n",
      "My guess is 796\n",
      "Incorrect! Please try to guess a larger number.\n",
      "Guess the number(between 1 and 1000): \n",
      "My guess is 804\n",
      "yes, your guess is correct!\n",
      "\n",
      "\n",
      "You tried 7 times to find the correct number.\n"
     ]
    }
   ],
   "source": [
    "import random\n",
    "number = random.randint(1, 1000)\n",
    "attempts = 0\n",
    "low = 1\n",
    "high = 1000\n",
    "\n",
    "while True:\n",
    "    print(\"Guess the number(between 1 and 1000): \")\n",
    "    input_number = (low + high) // 2\n",
    "    print(f\"My guess is {input_number}\")\n",
    "    attempts += 1\n",
    "    if input_number == number:\n",
    "        print(\"Yes, your guess is correct!\")\n",
    "        break\n",
    "    if input_number > number:\n",
    "        print(\"Incorrect! Please try to guess a smaller number.\")\n",
    "        high = input_number - 1\n",
    "    else:\n",
    "        print(\"Incorrect! Please try to guess a larger number.\")\n",
    "        low = input_number + 1\n",
    "\n",
    "print(f\"\\n\\nYou tried {attempts} times to find the correct number.\")"
   ]
  }
 ],
 "metadata": {
  "kernelspec": {
   "display_name": "deep",
   "language": "python",
   "name": "python3"
  },
  "language_info": {
   "codemirror_mode": {
    "name": "ipython",
    "version": 3
   },
   "file_extension": ".py",
   "mimetype": "text/x-python",
   "name": "python",
   "nbconvert_exporter": "python",
   "pygments_lexer": "ipython3",
   "version": "3.10.8 | packaged by conda-forge | (main, Nov 24 2022, 14:07:00) [MSC v.1916 64 bit (AMD64)]"
  },
  "orig_nbformat": 4,
  "vscode": {
   "interpreter": {
    "hash": "750b0b0bcdd9fe2e206a310bba2895779907b3630475ba10ada1c3aa2da185e2"
   }
  }
 },
 "nbformat": 4,
 "nbformat_minor": 2
}
