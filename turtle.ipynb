{
 "cells": [
  {
   "cell_type": "code",
   "execution_count": 6,
   "metadata": {},
   "outputs": [],
   "source": [
    "def leap_year(year):\n",
    "    if year %4 == 0:\n",
    "        if year %100 == 0 and year %400 != 0:\n",
    "            return False\n",
    "        else:\n",
    "          return True\n",
    "    else:\n",
    "        return False\n"
   ]
  },
  {
   "cell_type": "code",
   "execution_count": 1,
   "metadata": {},
   "outputs": [],
   "source": [
    "import turtle\n",
    "import random\n",
    "colors = [\"red\", \"green\", \"blue\", \"yellow\", \"orange\", \"black\", \"purple\"]\n",
    "wn = turtle.Screen()\n",
    "wn.bgcolor(\"white\")\n",
    "wn.title(\"Turtle\")\n",
    "t = turtle.Turtle()\n",
    "\n",
    "t.pendown()\n",
    "for i in range(100):\n",
    "    x = random.randint(-100, 100)\n",
    "    y  = random.randint(-100, 100)\n",
    "    t.setposition(x, y)\n",
    "    temp_color = random.randint(0, len(colors)-1)\n",
    "    t.dot(colors[temp_color])"
   ]
  },
  {
   "cell_type": "code",
   "execution_count": 10,
   "metadata": {},
   "outputs": [],
   "source": [
    "def find_fib(n):\n",
    "    if n <= 2:\n",
    "        return 1\n",
    "    fib_x, fib_next = 1, 1\n",
    "    i = 3\n",
    "    while i <= n:\n",
    "        i += 1\n",
    "        fib_x, fib_next = fib_next, fib_x + fib_next\n",
    "        return fib_next\n",
    "    for x in range(1, 11):\n",
    "        print(find_fib(x))\n"
   ]
  },
  {
   "cell_type": "code",
   "execution_count": 12,
   "metadata": {},
   "outputs": [
    {
     "name": "stdout",
     "output_type": "stream",
     "text": [
      "19\n"
     ]
    }
   ],
   "source": [
    "\n",
    "a = 9\n",
    "b = 10\n",
    "\n",
    "print(a + b)\n"
   ]
  },
  {
   "cell_type": "code",
   "execution_count": 16,
   "metadata": {},
   "outputs": [
    {
     "name": "stdout",
     "output_type": "stream",
     "text": [
      "0\n",
      "1\n",
      "1\n",
      "2\n",
      "3\n",
      "5\n",
      "8\n",
      "13\n",
      "21\n",
      "34\n",
      "55\n"
     ]
    }
   ],
   "source": [
    "def fibonacci_recursion(n):\n",
    "    if n < 0:\n",
    "        print('incorrect output')\n",
    "    elif n == 0:\n",
    "        return 0\n",
    "    elif n == 1 or n == 2:\n",
    "        return 1\n",
    "    else:\n",
    "        return fibonacci_recursion (n-1) + fibonacci_recursion (n-2)\n",
    "        \n",
    "for i in range(0, 11):\n",
    "        print(fibonacci_recursion(i))\n",
    "\n",
    "\n",
    "\n"
   ]
  },
  {
   "cell_type": "code",
   "execution_count": 17,
   "metadata": {},
   "outputs": [],
   "source": [
    "import turtle\n",
    "turtle.circle(50)\n",
    "turtle.done()"
   ]
  },
  {
   "cell_type": "code",
   "execution_count": 1,
   "metadata": {},
   "outputs": [],
   "source": [
    "import turtle\n",
    "import random\n",
    "\n",
    "for i in range(20):\n",
    "    x = random.randint(-200, 200)\n",
    "    y = random.randint(-200, 200)\n",
    "    turtle.setposition(x, y)\n",
    "    turtle.dot()\n",
    "    turtle.done\n",
    "    "
   ]
  },
  {
   "cell_type": "code",
   "execution_count": 3,
   "metadata": {},
   "outputs": [
    {
     "data": {
      "text/plain": [
       "<function turtle.mainloop()>"
      ]
     },
     "execution_count": 3,
     "metadata": {},
     "output_type": "execute_result"
    }
   ],
   "source": [
    "import turtle\n",
    "import random\n",
    "turtle.penup()\n",
    "for i in range(50):\n",
    "    x = random.randint(-200, 200)\n",
    "    y = random.randint(-200, 200)\n",
    "    turtle.setposition(x, y)\n",
    "    turtle.dot\n",
    "turtle.done"
   ]
  },
  {
   "cell_type": "code",
   "execution_count": 2,
   "metadata": {},
   "outputs": [],
   "source": [
    "import turtle\n",
    "import random\n",
    "colors = [\"red\", \"green\", \"blue\", \"yellow\", \"orange\", \"black\", \"purple\"]\n",
    "turtle.penup()\n",
    "for i in range(50):\n",
    "    x = random.randint(-100, 100)\n",
    "    y  = random.randint(-100, 100)\n",
    "    turtle.setposition(x, y)\n",
    "    i = random.randint(0, len(colors)-1)\n",
    "    turtle.dot(colors[i])\n",
    "turtle.done()\n"
   ]
  },
  {
   "cell_type": "code",
   "execution_count": 1,
   "metadata": {},
   "outputs": [
    {
     "name": "stdout",
     "output_type": "stream",
     "text": [
      "incorect! please try to guess a larger number. \n",
      "incorect! please try to guess a larger number. \n",
      "incorect! please try to guess a larger number. \n",
      "incorrect! please try to guess a smaller number. \n",
      "incorrect! please try to guess a smaller number. \n",
      "incorect! please try to guess a larger number. \n",
      "incorect! please try to guess a larger number. \n",
      "incorect! please try to guess a larger number. \n",
      "incorect! please try to guess a larger number. \n",
      "incorrect! please try to guess a smaller number. \n",
      "incorect! please try to guess a larger number. \n",
      "incorect! please try to guess a larger number. \n",
      "incorect! please try to guess a larger number. \n",
      "incorect! please try to guess a larger number. \n",
      "incorrect! please try to guess a smaller number. \n",
      "yes, your guess is correct! \n",
      "you tried 16 times to find the correct number. \n"
     ]
    }
   ],
   "source": [
    "import random\n",
    "number = random.randint(1, 1000)\n",
    "attempts = 0\n",
    "while True:\n",
    "    input_numbers = input(\"guess the number(between 1 and 1000): \")\n",
    "    input_numbers = int(input_numbers)\n",
    "    attempts += 1\n",
    "    if input_numbers == number:\n",
    "        print(\"yes, your guess is correct! \")\n",
    "        break\n",
    "    if input_numbers > number:\n",
    "        print(\"incorrect! please try to guess a smaller number. \")\n",
    "    else:\n",
    "            print(\"incorect! please try to guess a larger number. \")\n",
    "print(\"you tried\", attempts, \"times to find the correct number. \")\n"
   ]
  },
  {
   "cell_type": "code",
   "execution_count": 3,
   "metadata": {},
   "outputs": [
    {
     "ename": "SyntaxError",
     "evalue": "invalid syntax. Perhaps you forgot a comma? (256627752.py, line 9)",
     "output_type": "error",
     "traceback": [
      "\u001b[1;36m  Cell \u001b[1;32mIn[3], line 9\u001b[1;36m\u001b[0m\n\u001b[1;33m    print(\"my guess is, \" input number.)\u001b[0m\n\u001b[1;37m          ^\u001b[0m\n\u001b[1;31mSyntaxError\u001b[0m\u001b[1;31m:\u001b[0m invalid syntax. Perhaps you forgot a comma?\n"
     ]
    }
   ],
   "source": [
    "import random\n",
    "number = random.rendint(1, 1000)\n",
    "attempts = 0\n",
    "low = 1\n",
    "high = 1000\n",
    "while True:\n",
    "    print(\"guess the number(between 1 and 1000): \")\n",
    "    input_number = (low + high) // 2\n",
    "    print(\"my guess is, \" input number.)\n",
    "    attempts += 1\n",
    "    if input_number == number:\n",
    "        print(\"yes, your guess is correct!\")\n",
    "        break\n",
    "    if input_number > number:\n",
    "        print(\"incorrect!please try to guess a smaller number.\")\n",
    "        high = input_number - 1\n",
    "        else:\n",
    "            print(\"incorrect! please try to guess a larger number.\")\n",
    "            low = input_number + 1\n",
    "print(\"you tried\",attempts,\"times to find the correct number. \")\n"
   ]
  },
  {
   "cell_type": "code",
   "execution_count": 2,
   "metadata": {},
   "outputs": [
    {
     "ename": "SyntaxError",
     "evalue": "invalid syntax. Perhaps you forgot a comma? (4019110093.py, line 9)",
     "output_type": "error",
     "traceback": [
      "\u001b[1;36m  Cell \u001b[1;32mIn[2], line 9\u001b[1;36m\u001b[0m\n\u001b[1;33m    print(\"my guess is\", input number.)\u001b[0m\n\u001b[1;37m                         ^\u001b[0m\n\u001b[1;31mSyntaxError\u001b[0m\u001b[1;31m:\u001b[0m invalid syntax. Perhaps you forgot a comma?\n"
     ]
    }
   ],
   "source": [
    "import random\n",
    "number = random.rendint(1, 1000)\n",
    "attempts = 0\n",
    "low = 1\n",
    "high = 1000\n",
    "while True:\n",
    "    print(\"guess the number(between 1 and 1000): \")\n",
    "    input_number = (low + high) // 2\n",
    "    print(\"my guess is\", input number.)\n",
    "    attempts += 1\n",
    "    if input_number == number:\n",
    "        print(\"yes, your guess is correct!\")\n",
    "        break\n",
    "    if input_number > number:\n",
    "        print(\"incorrect!please try to guess a smaller number.\")\n",
    "        high = input_number - 1\n",
    "    else:\n",
    "            print(\"incorrect! please try to guess a larger number.\")\n",
    "            low = input_number + 1\n",
    "print(\"you tried\",attempts,\"times to find the correct number. \")"
   ]
  },
  {
   "cell_type": "code",
   "execution_count": 4,
   "metadata": {},
   "outputs": [],
   "source": [
    "import turtle\n",
    "turtle.color('red','yellow')\n",
    "turtle.begin_fill()\n",
    "while True:\n",
    "        turtle.forward(200)\n",
    "        turtle.left(170)\n",
    "        if abs(turtle.position()) < 1:\n",
    "            break\n",
    "turtle.end_fill()\n",
    "turtle.done()"
   ]
  }
 ],
 "metadata": {
  "kernelspec": {
   "display_name": "Python 3",
   "language": "python",
   "name": "python3"
  },
  "language_info": {
   "codemirror_mode": {
    "name": "ipython",
    "version": 3
   },
   "file_extension": ".py",
   "mimetype": "text/x-python",
   "name": "python",
   "nbconvert_exporter": "python",
   "pygments_lexer": "ipython3",
   "version": "3.10.1 (tags/v3.10.1:2cd268a, Dec  6 2021, 19:10:37) [MSC v.1929 64 bit (AMD64)]"
  },
  "orig_nbformat": 4,
  "vscode": {
   "interpreter": {
    "hash": "de66d7802e14fb2e8694b63e255d0fe3514f0a531cbbfb87d1ecc51a74f4db4d"
   }
  }
 },
 "nbformat": 4,
 "nbformat_minor": 2
}
